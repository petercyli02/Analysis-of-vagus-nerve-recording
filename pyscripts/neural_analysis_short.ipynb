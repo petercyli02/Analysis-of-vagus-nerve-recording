{
 "cells": [
  {
   "cell_type": "markdown",
   "id": "3e961d4d",
   "metadata": {
    "toc": true
   },
   "source": [
    "### List of goals\n",
    "- Goal 1: clean the signal from artifacts and plan the best strategy for analysis: implement any code that is needed to further clean the signal and think on the best way to achieve goal 2\n",
    "- Goal 2: decode glucose information from VN recordings: e.g. right before eating, glucose change.."
   ]
  },
  {
   "cell_type": "code",
   "execution_count": 2,
   "id": "b2a5bfd2",
   "metadata": {
    "ExecuteTime": {
     "end_time": "2024-01-07T16:27:49.252845100Z",
     "start_time": "2024-01-07T16:27:49.223272300Z"
    }
   },
   "outputs": [],
   "source": [
    "import IPython\n",
    "# IPython.Application.instance().kernel.do_shutdown(True)\n",
    "\n",
    "# %matplotlib notebook \n",
    "#import mpld3\n",
    "#mpld3.enable_notebook()\n",
    "\n",
    "%matplotlib widget\n",
    "\n",
    "import os\n",
    "import sys\n",
    "import json\n",
    "import time\n",
    "import datetime\n",
    "import pycwt\n",
    "import statistics\n",
    "import random\n",
    "import pickle\n",
    "import numpy as np\n",
    "import scipy as sp\n",
    "import pandas as pd\n",
    "import seaborn as sns\n",
    "import sklearn as sk\n",
    "import tkinter as tk\n",
    "import matplotlib.pyplot as plt\n",
    "from sklearn import metrics\n",
    "from sklearn import decomposition\n",
    "from sklearn.decomposition import PCA\n",
    "from tkinter import *\n",
    "from tkinter import ttk\n",
    "from sklearn import preprocessing\n",
    "from datetime import date\n",
    "import matplotlib.dates as mdates\n",
    "\n",
    "from neurodsp.rhythm import sliding_window_matching\n",
    "from neurodsp.utils.download import load_ndsp_data\n",
    "from neurodsp.plts.rhythm import plot_swm_pattern\n",
    "from neurodsp.plts.time_series import plot_time_series\n",
    "from neurodsp.utils import set_random_seed, create_times\n",
    "# Import listed chormap\n",
    "from matplotlib.colors import ListedColormap\n",
    "import matplotlib.dates as md\n",
    "from matplotlib import colors as mcolors\n",
    "# Scipy\n",
    "from scipy import signal\n",
    "from scipy import ndimage\n",
    "# TKinter for selecting files\n",
    "from tkinter import Tk  # from tkinter import Tk for Python 3.x\n",
    "from tkinter.filedialog import askdirectory\n",
    "\n",
    "# Add my module to python path\n",
    "sys.path.append(\"../\")\n",
    "\n",
    "# Own libraries\n",
    "from Neurogram_short import *  # Recording, MyWavelet, MyWaveforms\n",
    "\n",
    "os.environ['KMP_DUPLICATE_LIB_OK'] = 'True'"
   ]
  },
  {
   "cell_type": "markdown",
   "id": "9676d777",
   "metadata": {},
   "source": [
    "## Load data"
   ]
  },
  {
   "cell_type": "code",
   "execution_count": 3,
   "id": "45341f74",
   "metadata": {
    "ExecuteTime": {
     "end_time": "2024-01-07T16:29:12.587980200Z",
     "start_time": "2024-01-07T16:27:51.195436900Z"
    }
   },
   "outputs": [
    {
     "name": "stdout",
     "output_type": "stream",
     "text": [
      "../datasets/rat5/day1\n",
      "Loading from file C:/Users/airbl/OneDrive - University of Cambridge/Documents/Cambridge Work IIB/IIB Project/Repo/datasets/rat5/day1/recording_230718_111958_133858_Port A.pkl\n",
      "0\n",
      "stop: 83506752\n",
      "10000.0\n",
      "['0', '1', '2', '3', '5', '8', '12', '13', '14', '15', '16', '17', '18', '23', '25', '26', '28', '29', '30']\n",
      "                                     ch_0        ch_1       ch_2        ch_3  \\\n",
      "time                                                                           \n",
      "1970-01-01 00:00:00.000000000  276.704987 -528.059998 -21.840000 -147.419998   \n",
      "1970-01-01 00:00:00.000100000  255.449997 -547.364990 -36.075001 -155.220001   \n",
      "1970-01-01 00:00:00.000200000  254.865005 -546.390015 -42.705002 -161.264999   \n",
      "1970-01-01 00:00:00.000300000  259.350006 -542.294983 -41.145000 -155.024994   \n",
      "1970-01-01 00:00:00.000400000  259.350006 -538.395020 -34.709999 -145.664993   \n",
      "...                                   ...         ...        ...         ...   \n",
      "1970-01-01 02:19:10.674700000  -19.695000  -21.840000 -13.650000   -3.120000   \n",
      "1970-01-01 02:19:10.674800000  -12.285000  -20.475000 -10.530000   -4.680000   \n",
      "1970-01-01 02:19:10.674900000  -19.110001  -19.305000  -9.555000   -6.825000   \n",
      "1970-01-01 02:19:10.674999999  -17.549999  -25.155001  -9.555000   -3.900000   \n",
      "1970-01-01 02:19:10.675100000  -17.549999  -26.325001  -7.410000   -8.385000   \n",
      "\n",
      "                                     ch_5        ch_8       ch_12       ch_13  \\\n",
      "time                                                                            \n",
      "1970-01-01 00:00:00.000000000 -377.714996  381.809998 -163.214996 -100.035004   \n",
      "1970-01-01 00:00:00.000100000 -405.795013  351.975006 -148.979996  -84.824997   \n",
      "1970-01-01 00:00:00.000200000 -398.385010  344.174988 -143.324997  -83.849998   \n",
      "1970-01-01 00:00:00.000300000 -396.045013  360.359985 -140.985001  -76.050003   \n",
      "1970-01-01 00:00:00.000400000 -393.899994  365.234985 -138.449997  -70.199997   \n",
      "...                                   ...         ...         ...         ...   \n",
      "1970-01-01 02:19:10.674700000  -24.959999  -38.220001   -8.775000   -6.630000   \n",
      "1970-01-01 02:19:10.674800000  -21.254999  -31.590000   -3.705000   -8.385000   \n",
      "1970-01-01 02:19:10.674900000  -20.865000  -31.785000   -6.240000   -8.385000   \n",
      "1970-01-01 02:19:10.674999999  -22.424999  -32.564999   -2.730000   -1.170000   \n",
      "1970-01-01 02:19:10.675100000  -24.959999  -34.125000   -9.555000  -12.285000   \n",
      "\n",
      "                                    ch_14        ch_15        ch_16  \\\n",
      "time                                                                  \n",
      "1970-01-01 00:00:00.000000000 -239.654999   982.020020  1115.010010   \n",
      "1970-01-01 00:00:00.000100000 -196.365005  1054.170044  1055.729980   \n",
      "1970-01-01 00:00:00.000200000 -189.929993  1091.025024  1096.290039   \n",
      "1970-01-01 00:00:00.000300000 -193.634995  1096.875000  1114.425049   \n",
      "1970-01-01 00:00:00.000400000 -181.740005  1108.964966  1122.614990   \n",
      "...                                   ...          ...          ...   \n",
      "1970-01-01 02:19:10.674700000   -3.900000    -9.750000   -11.310000   \n",
      "1970-01-01 02:19:10.674800000   -8.580000    -7.800000   -10.335000   \n",
      "1970-01-01 02:19:10.674900000   -6.630000    -7.995000    -5.460000   \n",
      "1970-01-01 02:19:10.674999999  -13.455000   -15.990000    -1.755000   \n",
      "1970-01-01 02:19:10.675100000   -9.360000   -12.090000    -5.460000   \n",
      "\n",
      "                                   ch_17       ch_18       ch_23       ch_25  \\\n",
      "time                                                                           \n",
      "1970-01-01 00:00:00.000000000 -36.465000 -106.080002  471.510010 -178.229996   \n",
      "1970-01-01 00:00:00.000100000 -50.505001 -108.419998  448.695007 -179.399994   \n",
      "1970-01-01 00:00:00.000200000 -38.610001 -106.860001  447.524994 -174.330002   \n",
      "1970-01-01 00:00:00.000300000 -30.809999  -99.644997  463.515015 -163.410004   \n",
      "1970-01-01 00:00:00.000400000 -20.084999  -97.305000  463.709991 -164.774994   \n",
      "...                                  ...         ...         ...         ...   \n",
      "1970-01-01 02:19:10.674700000  -5.850000   -6.240000  -16.575001  -19.695000   \n",
      "1970-01-01 02:19:10.674800000  -9.750000   -6.435000  -39.974998  -20.670000   \n",
      "1970-01-01 02:19:10.674900000  -5.460000   -4.095000   -9.750000  -15.990000   \n",
      "1970-01-01 02:19:10.674999999 -18.330000   -3.705000  -37.439999  -20.280001   \n",
      "1970-01-01 02:19:10.675100000  -5.850000   -8.580000  -40.560001  -21.840000   \n",
      "\n",
      "                                    ch_26       ch_28       ch_29       ch_30  \\\n",
      "time                                                                            \n",
      "1970-01-01 00:00:00.000000000 -700.635010 -141.179993 -268.125000 -148.005005   \n",
      "1970-01-01 00:00:00.000100000 -687.570007 -119.925003 -237.119995 -125.580002   \n",
      "1970-01-01 00:00:00.000200000 -633.164978 -124.605003 -239.070007 -124.995003   \n",
      "1970-01-01 00:00:00.000300000 -597.674988 -114.074997 -233.804993 -119.730003   \n",
      "1970-01-01 00:00:00.000400000 -616.200012 -109.785004 -232.634995 -120.510002   \n",
      "...                                   ...         ...         ...         ...   \n",
      "1970-01-01 02:19:10.674700000 -104.714996   -5.850000  -21.840000  -20.084999   \n",
      "1970-01-01 02:19:10.674800000 -108.809998   -3.705000  -17.549999  -13.845000   \n",
      "1970-01-01 02:19:10.674900000  -90.480003   -8.970000  -13.455000  -19.889999   \n",
      "1970-01-01 02:19:10.674999999  -94.964996   -9.555000  -19.695000  -13.455000   \n",
      "1970-01-01 02:19:10.675100000 -108.029999   -4.290000  -17.355000  -23.400000   \n",
      "\n",
      "                                 seconds  \n",
      "time                                      \n",
      "1970-01-01 00:00:00.000000000     0.0000  \n",
      "1970-01-01 00:00:00.000100000     0.0001  \n",
      "1970-01-01 00:00:00.000200000     0.0002  \n",
      "1970-01-01 00:00:00.000300000     0.0003  \n",
      "1970-01-01 00:00:00.000400000     0.0004  \n",
      "...                                  ...  \n",
      "1970-01-01 02:19:10.674700000  8350.6747  \n",
      "1970-01-01 02:19:10.674800000  8350.6748  \n",
      "1970-01-01 02:19:10.674900000  8350.6749  \n",
      "1970-01-01 02:19:10.674999999  8350.6750  \n",
      "1970-01-01 02:19:10.675100000  8350.6751  \n",
      "\n",
      "[83506752 rows x 20 columns]\n",
      "83506752\n",
      "Data loaded succesfully.\n",
      "Sampling frequency: 10000.0\n",
      "Recording length: 83506752(samples), 8350.6752(s): \n",
      "Time elapsed: 81.17811393737793 seconds\n"
     ]
    }
   ],
   "source": [
    "Tk().withdraw()  # keep the root window from appearing\n",
    "dir_name = ('../datasets/')\n",
    "path = '../datasets/rat5/day1' # Port A\n",
    "\n",
    "map_path = '../datasets/map_linear.csv'\n",
    "\n",
    "# When using port A: channels=range(0,32,1) by default port B:range(32,64,1)\n",
    "# Start and dur in samples\n",
    "# feinstein: channels=[0]\n",
    "time_start = time.time()\n",
    "load_from_file=True     # Keep it always to true\n",
    "downsample = 2             #Only when loading from raw - no need to use it \n",
    "start= 0                   \n",
    "dur= None                \n",
    "port = 'Port A'  # Select port A or B for different recordings\n",
    "record = Recording.open_record(path, start=start, dur=dur, \n",
    "                               load_from_file=load_from_file, \n",
    "                               load_multiple_files=True,\n",
    "                               downsample=downsample,\n",
    "                               port=port  ,  # Select recording port\n",
    "                               map_path=map_path,\n",
    "                               verbose=0)\n",
    "\n",
    "# Create directory to save figures\n",
    "if not os.path.exists('%s/figures/' %(path)):\n",
    "    os.makedirs('%s/figures/' %(path))\n",
    "print(\"Time elapsed: {} seconds\".format(time.time()-time_start)) \n",
    "\n",
    "#sys.exit()\n"
   ]
  },
  {
   "cell_type": "code",
   "execution_count": 4,
   "id": "2b83fdbc",
   "metadata": {
    "ExecuteTime": {
     "end_time": "2024-01-07T16:29:21.213522200Z",
     "start_time": "2024-01-07T16:29:21.050196900Z"
    }
   },
   "outputs": [],
   "source": [
    "# Get current time for saving (avoid overwriting)\n",
    "now = datetime.datetime.now()\n",
    "current_time = now.strftime(\"%d%m%Y_%H%M%S\")"
   ]
  },
  {
   "cell_type": "code",
   "execution_count": 5,
   "id": "3f2fd79b",
   "metadata": {
    "ExecuteTime": {
     "end_time": "2024-01-07T16:29:21.232186400Z",
     "start_time": "2024-01-07T16:29:21.122419200Z"
    }
   },
   "outputs": [],
   "source": [
    "## Configuration"
   ]
  },
  {
   "cell_type": "code",
   "execution_count": 6,
   "id": "0b0f3074",
   "metadata": {
    "ExecuteTime": {
     "end_time": "2024-01-07T16:29:21.248614900Z",
     "start_time": "2024-01-07T16:29:21.154198500Z"
    }
   },
   "outputs": [],
   "source": [
    "# Do not change\n",
    "options_filter = [\n",
    "    \"None\", \n",
    "    \"butter\", \n",
    "    \"fir\"]                # Binomial Weighted Average Filter\n",
    "\n",
    "options_detection = [\n",
    "    \"get_spikes_threshCrossing\", # Ojo: get_spikes_threshCrossing needs detects also cardiac \n",
    "                                     # spikes, so use cardiac_window. This method is slower\n",
    "    \"get_spikes_method\",         # Python implemented get_spikes() method. Faster\n",
    "    \"so_cfar\"]                    # Smallest of constant false-alarm rate filter\n",
    "\n",
    "options_threshold = [\n",
    "    \"positive\",\n",
    "    \"negative\", \n",
    "    \"both_thresh\"]"
   ]
  },
  {
   "cell_type": "code",
   "execution_count": 7,
   "id": "ca88e845",
   "metadata": {
    "ExecuteTime": {
     "end_time": "2024-01-07T16:29:21.871054200Z",
     "start_time": "2024-01-07T16:29:21.747630400Z"
    }
   },
   "outputs": [
    {
     "name": "stdout",
     "output_type": "stream",
     "text": [
      "SELECTED GENERAL CONFIGURATION:\n",
      "Filter: butter\n",
      "Detection: get_spikes_method\n",
      "Threhold type: positive\n",
      "Channels: [3, 13, 18]\n",
      "-------------------------------------\n",
      "map_array: [ 0  1  2  3  4  5  6  7  8  9 10 11 12 13 14 15 16 17 18 19 20 21 22 23\n",
      " 24 25 26 27 28 29 30 31]\n",
      "ch_loc: [3, 13, 18]\n",
      "filter_ch ['ch_3', 'ch_13', 'ch_18']\n",
      "column_ch ['0', '1', '2', '3', '5', '8', '12', '13', '14', '15', '16', '17', '18', '23', '25', '26', '28', '29', '30']\n"
     ]
    }
   ],
   "source": [
    "# Configure\n",
    "config_text = []\n",
    "record.apply_filter = options_filter[1]    \n",
    "record.detect_method = options_detection[1]   # leave it to butter (option 1)                                 \n",
    "record.thresh_type = options_threshold[0]     # do not use it for now\n",
    "# Select channel position/number in intan (not channel number in device)\n",
    "\n",
    "record.channels = [3,13,18]  # Select the channels to use. E.g. 5,8,13 for the recording you have now\n",
    "record.path = path  \n",
    "config_text = ['Load_from_file %s' %load_from_file, 'Filter: %s'%record.apply_filter, 'Detection: %s'%record.detect_method, 'Threhold type: %s'%record.thresh_type, 'Channels: %s' %record.channels, 'Downsampling: %s' %downsample]\n",
    "config_text.append('Port %s' %(port))\n",
    "config_text.append('Start %s, Dur: %s' %(start,dur))\n",
    "config_text.append('Channels: %s' %record.channels)\n",
    "# Ramarkable timestamps (in sec) \n",
    "\n",
    "group = '1'\n",
    "\n",
    "print('SELECTED GENERAL CONFIGURATION:')\n",
    "print('Filter: %s'%record.apply_filter)\n",
    "print('Detection: %s'%record.detect_method)\n",
    "print('Threhold type: %s'%record.thresh_type)\n",
    "print('Channels: %s' %record.channels) \n",
    "print('-------------------------------------')\n",
    "\n",
    "record.select_channels(record.channels) # keep_ch_loc=True if we want to display following the map. Otherwise follow the order provided by selected channels.\n",
    "print('map_array: %s' %record.map_array)\n",
    "print('ch_loc: %s' %record.ch_loc)\n",
    "print('filter_ch %s' %record.filter_ch)\n",
    "print('column_ch %s' %record.column_ch)"
   ]
  },
  {
   "cell_type": "markdown",
   "id": "042e12d7",
   "metadata": {},
   "source": [
    "#### Select visualization options:  "
   ]
  },
  {
   "cell_type": "code",
   "execution_count": 8,
   "id": "826db0ab",
   "metadata": {
    "ExecuteTime": {
     "end_time": "2024-01-07T16:29:23.582639200Z",
     "start_time": "2024-01-07T16:29:23.216551400Z"
    }
   },
   "outputs": [
    {
     "name": "stdout",
     "output_type": "stream",
     "text": [
      "3\n",
      "2\n",
      "1\n"
     ]
    }
   ],
   "source": [
    "# Configure\n",
    "record.num_rows = 2#int(round(len(record.filter_ch)/2)) # round(n_components/2) \n",
    "record.num_columns = 1#int(len(record.filter_ch)-round(len(record.filter_ch)/2))+1 \n",
    "plot_ch = int(record.map_array[record.ch_loc[0]])                \n",
    "print(plot_ch)\n",
    "print(record.num_rows)\n",
    "print(record.num_columns)\n",
    "save_figure = True"
   ]
  },
  {
   "cell_type": "markdown",
   "id": "f434ecb2",
   "metadata": {},
   "source": [
    "##### Gain"
   ]
  },
  {
   "cell_type": "code",
   "execution_count": 9,
   "id": "78a6d286",
   "metadata": {
    "ExecuteTime": {
     "end_time": "2024-01-07T16:29:25.045698100Z",
     "start_time": "2024-01-07T16:29:24.733099700Z"
    }
   },
   "outputs": [],
   "source": [
    "gain = 1\n",
    "config_text.append('Gain: %s' %(gain))"
   ]
  },
  {
   "cell_type": "markdown",
   "id": "58a1b0a1",
   "metadata": {},
   "source": [
    "##### Maximum bpm"
   ]
  },
  {
   "cell_type": "code",
   "execution_count": 10,
   "id": "0eb453a0",
   "metadata": {
    "ExecuteTime": {
     "end_time": "2024-01-07T16:29:26.588138300Z",
     "start_time": "2024-01-07T16:29:26.112443800Z"
    }
   },
   "outputs": [],
   "source": [
    "bpm = 300\n",
    "record.set_bpm(bpm) # General max bpm in rat HR. Current neurograms at 180bpm\n",
    "config_text.append('BPM: %s' %(bpm))"
   ]
  },
  {
   "cell_type": "markdown",
   "id": "d379fd51",
   "metadata": {
    "jp-MarkdownHeadingCollapsed": true,
    "tags": []
   },
   "source": [
    "#### Final initializations (No need to change)  "
   ]
  },
  {
   "cell_type": "code",
   "execution_count": 11,
   "id": "6576596f",
   "metadata": {
    "ExecuteTime": {
     "end_time": "2024-01-07T16:29:28.959912400Z",
     "start_time": "2024-01-07T16:29:28.791285800Z"
    }
   },
   "outputs": [],
   "source": [
    "# Initialize dataframe for results \n",
    "#----------------------------------------------------\n",
    "record.rolling_metrics = pd.DataFrame()\n",
    "record.summary = pd.DataFrame(columns=['Max_spike_rate', 'Min_spike_rate',\n",
    "                                'Max_amplitude_sum', 'Min_amplitude_sum'])\n",
    "record.summary.index.name = 'channel'\n",
    "record.sig2noise = [] #To save the snr for each channel\n",
    "\n",
    "# Intialize dataframes for wavelet decomposition\n",
    "#----------------------------------------------------\n",
    "neural_wvl = pd.DataFrame(columns=record.filter_ch)\n",
    "neural_wvl_denoised = pd.DataFrame(columns=record.filter_ch)\n",
    "other_wvl = pd.DataFrame(columns=record.filter_ch)\n",
    "substraction_wvl = pd.DataFrame(columns=record.filter_ch)"
   ]
  },
  {
   "cell_type": "markdown",
   "id": "d89c097e",
   "metadata": {},
   "source": [
    "### Plot raw signal"
   ]
  },
  {
   "cell_type": "code",
   "execution_count": 12,
   "id": "f540de14",
   "metadata": {
    "ExecuteTime": {
     "end_time": "2024-01-07T16:31:04.762697900Z",
     "start_time": "2024-01-07T16:29:30.852227Z"
    }
   },
   "outputs": [
    {
     "name": "stdout",
     "output_type": "stream",
     "text": [
      "Plot will not show\n"
     ]
    }
   ],
   "source": [
    "record.plot_freq_content(record.original,int(plot_ch), nperseg=512, max_freq=4000, ylim=[-500, 500], dtformat='%H:%M:%S',\n",
    "                         figsize=(10, 10), savefigpath='%s/figures/%s_ch%s_original-%s.png' %(record.path, port, plot_ch, current_time), \n",
    "                         show=False) "
   ]
  },
  {
   "cell_type": "markdown",
   "id": "06c913fe",
   "metadata": {},
   "source": [
    "### Channel referencing"
   ]
  },
  {
   "cell_type": "code",
   "execution_count": null,
   "id": "469b10b9",
   "metadata": {},
   "outputs": [],
   "source": [
    "ref_ch_name = 'mean' #'mean'\n",
    "if ref_ch_name == 'mean':\n",
    "    all_ch_list = [col for col in channels if col.startswith('ch_')] \n",
    "    ref_ch = record.original[all_ch_list].mean(axis=1)\n",
    "else:\n",
    "    ref_ch = record.original['ch_%s'%ref_ch_name]  \n",
    "record.referenced = record.original[record.filter_ch].sub(ref_ch, axis=0)\n",
    "record.referenced['seconds'] = record.original['seconds']\n",
    "record.recording=record.referenced\n",
    "record.recording.name = 'referenced'\n",
    "config_text.append('ref_ch: %s' % ref_ch_name)\n"
   ]
  },
  {
   "cell_type": "code",
   "execution_count": null,
   "id": "c6884128",
   "metadata": {},
   "outputs": [],
   "source": [
    "record.plot_freq_content(record.referenced,int(plot_ch), nperseg=512, max_freq=4000, ylim=[-750,750], dtformat='%H:%M:%S',figsize=(10, 10),\n",
    "                         savefigpath='%s/figures/%s_ch%s_ref%s-%s.png' %(record.path, port, plot_ch, ref_ch_name, current_time),\n",
    "                         show=True) \n",
    "    "
   ]
  },
  {
   "cell_type": "markdown",
   "id": "2c10eaa6",
   "metadata": {},
   "source": [
    "### Filtering"
   ]
  },
  {
   "cell_type": "markdown",
   "id": "3f5c95f8",
   "metadata": {},
   "source": [
    "#### Bandwidth filter"
   ]
  },
  {
   "cell_type": "code",
   "execution_count": null,
   "id": "8a1bcd3c",
   "metadata": {},
   "outputs": [],
   "source": [
    "# Configure - change as needed\n",
    "filt_config = {\n",
    "    'W': [400, 4000],  # (max needs to be <fs/2 per Nyquist)\n",
    "    'None': {},\n",
    "    'butter': {\n",
    "            'N': 9,                # The order of the filter\n",
    "            'btype': 'bandpass', #'bandpass', #'hp'  #'lowpass'     # The type of filter.\n",
    "    },      \n",
    "    'fir': {\n",
    "            'n': 4,\n",
    "    },\n",
    "    'notch': {\n",
    "            'quality_factor': 30,\n",
    "    },\n",
    "}\n",
    "\n",
    "filt_config['butter']['Wn'] = filt_config['W']\n",
    "filt_config['butter']['fs'] = record.fs\n",
    "\n",
    "config_text.append('filt_config: %s' %json.dumps(filt_config))"
   ]
  },
  {
   "cell_type": "markdown",
   "id": "13d91ed6",
   "metadata": {},
   "source": [
    "##### Apply filter"
   ]
  },
  {
   "cell_type": "code",
   "execution_count": null,
   "id": "0965a10d",
   "metadata": {},
   "outputs": [],
   "source": [
    "# Configure\n",
    "time_start = time.time()\n",
    "signal2filter = record.recording\n",
    "config_text.append('signal2filter: %s' %signal2filter.name)\n",
    "record.filter(signal2filter, record.apply_filter, **filt_config[record.apply_filter])\n",
    "# Change from float64 to float 16\n",
    "record.filtered = convertDfType(record.filtered, typeFloat='float32')\n",
    "#print(record.filtered.dtypes)\n",
    "print(\"Time elapsed: {} seconds\".format(time.time()-time_start))"
   ]
  },
  {
   "cell_type": "markdown",
   "id": "7a8418f4",
   "metadata": {},
   "source": [
    "##### Plot filtered signal"
   ]
  },
  {
   "cell_type": "code",
   "execution_count": null,
   "id": "4d19f5f8",
   "metadata": {},
   "outputs": [],
   "source": [
    "text_label = 'Filtered'\n",
    "text = 'Channels after %s filtering'%record.apply_filter\n",
    "record.plot_freq_content(record.filtered,int(plot_ch), nperseg=512, max_freq=4000, ylim=[-100, 100], dtformat='%H:%M:%S',\n",
    "                         figsize=(10, 10), savefigpath='%s/figures/%s_ch%s_butter_filtering-%s.png' %(record.path,port,plot_ch, current_time),"
   ]
  },
  {
   "cell_type": "markdown",
   "id": "3598d277",
   "metadata": {},
   "source": [
    "#### Notch filtering: check if needed"
   ]
  },
  {
   "cell_type": "code",
   "execution_count": null,
   "id": "abe1d3d7-b9ca-48ad-8206-6355fa832ea9",
   "metadata": {},
   "outputs": [],
   "source": [
    "time_start = time.time()\n",
    "freq_notch =  range(450, 2000, 100) #change as needed\n",
    "for n in freq_notch:\n",
    "    filt_config['notch']['notch_freq'] = n\n",
    "    record.filter(record.filtered, 'notch', **filt_config['notch'])\n",
    "print(\"Time elapsed: {} seconds\".format(time.time()-time_start))\n",
    "config_text.append('notch_filtered:applied')\n",
    "# Change from float64 to float 16\n",
    "record.filtered = convertDfType(record.filtered, typeFloat='float32')\n",
    "\n",
    "record.recording=record.filtered\n",
    "record.recording.name = 'filtered'"
   ]
  },
  {
   "cell_type": "code",
   "execution_count": null,
   "id": "8b1a205b-ec8a-46dd-bff3-75d6d8f215ec",
   "metadata": {},
   "outputs": [],
   "source": [
    "text_label = 'Filtered'\n",
    "text = 'Channels after %s filtering'%'notch'\n",
    "\n",
    "record.plot_freq_content(record.filtered, int(plot_ch), ylim=[-100, 100], nperseg=512, max_freq=4000, dtformat='%H:%M:%S',\n",
    "                         figsize=(10, 10), savefigpath='%s/figures/%s_ch%s_allfilt-%s.png' %(record.path, port,plot_ch, current_time), show=True) "
   ]
  },
  {
   "cell_type": "markdown",
   "id": "ca8f5570",
   "metadata": {},
   "source": [
    "### NOISE: Envelope derivative operator (EDO)"
   ]
  },
  {
   "cell_type": "code",
   "execution_count": null,
   "id": "ab3608d6",
   "metadata": {},
   "outputs": [],
   "source": [
    "noise_edo=pd.DataFrame()\n",
    "\n",
    "for ch in record.filter_ch:\n",
    "    x = record.recording[ch].to_numpy() \n",
    "    # Apply EDO filter\n",
    "    x_e = gen_edo(x)\n",
    "    # Store in DF to be loaded in signal analysis\n",
    "    noise_edo[ch] = x_e\n",
    "noise_edo['seconds'] = np.asarray(record.recording['seconds'])\n",
    "noise_edo.index = pd.DatetimeIndex(noise_edo.seconds * 1e9)\n",
    "noise_edo.index.name = 'time'\n",
    "noise_edo.name = 'noise_edo'\n",
    "\n",
    "config_text.append('signal to EDO: %s' %record.recording.name)\n",
    "\n",
    "# Change from float64 to float 32\n",
    "#noise_edo = convertDfType(noise_edo, typeFloat='float32')\n",
    "#print(noise_edo.dtypes)"
   ]
  }
 ],
 "metadata": {
  "kernelspec": {
   "display_name": "Python 3 (ipykernel)",
   "language": "python",
   "name": "python3"
  },
  "language_info": {
   "codemirror_mode": {
    "name": "ipython",
    "version": 3
   },
   "file_extension": ".py",
   "mimetype": "text/x-python",
   "name": "python",
   "nbconvert_exporter": "python",
   "pygments_lexer": "ipython3",
   "version": "3.10.9"
  },
  "toc": {
   "base_numbering": 1,
   "nav_menu": {},
   "number_sections": true,
   "sideBar": true,
   "skip_h1_title": false,
   "title_cell": "Table of Contents",
   "title_sidebar": "Contents",
   "toc_cell": true,
   "toc_position": {},
   "toc_section_display": true,
   "toc_window_display": false
  },
  "varInspector": {
   "cols": {
    "lenName": 16,
    "lenType": 16,
    "lenVar": 40
   },
   "kernels_config": {
    "python": {
     "delete_cmd_postfix": "",
     "delete_cmd_prefix": "del ",
     "library": "var_list.py",
     "varRefreshCmd": "print(var_dic_list())"
    },
    "r": {
     "delete_cmd_postfix": ") ",
     "delete_cmd_prefix": "rm(",
     "library": "var_list.r",
     "varRefreshCmd": "cat(var_dic_list()) "
    }
   },
   "types_to_exclude": [
    "module",
    "function",
    "builtin_function_or_method",
    "instance",
    "_Feature"
   ],
   "window_display": false
  }
 },
 "nbformat": 4,
 "nbformat_minor": 5
}
