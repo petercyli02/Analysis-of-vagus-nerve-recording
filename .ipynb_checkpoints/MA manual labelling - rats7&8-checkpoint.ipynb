{
 "cells": [
  {
   "cell_type": "code",
   "execution_count": 1,
   "id": "initial_id",
   "metadata": {
    "collapsed": true,
    "ExecuteTime": {
     "end_time": "2024-02-14T22:12:37.003619900Z",
     "start_time": "2024-02-14T22:12:27.158897300Z"
    }
   },
   "outputs": [],
   "source": [
    "import copy\n",
    "\n",
    "import IPython\n",
    "# IPython.Application.instance().kernel.do_shutdown(True)\n",
    "\n",
    "# %matplotlib notebook \n",
    "#import mpld3\n",
    "#mpld3.enable_notebook()\n",
    "\n",
    "%matplotlib widget\n",
    "\n",
    "import os\n",
    "import sys\n",
    "import json\n",
    "import time\n",
    "import datetime\n",
    "import pycwt\n",
    "import statistics\n",
    "import random\n",
    "import pickle\n",
    "import numpy as np\n",
    "import scipy as sp\n",
    "import pandas as pd\n",
    "import seaborn as sns\n",
    "import sklearn as sk\n",
    "import tkinter as tk\n",
    "import matplotlib.pyplot as plt\n",
    "from sklearn import metrics\n",
    "from sklearn import decomposition\n",
    "from sklearn.decomposition import PCA\n",
    "from tkinter import *\n",
    "from tkinter import ttk\n",
    "from sklearn import preprocessing\n",
    "from datetime import date\n",
    "import matplotlib.dates as mdates\n",
    "\n",
    "from neurodsp.rhythm import sliding_window_matching\n",
    "from neurodsp.utils.download import load_ndsp_data\n",
    "from neurodsp.plts.rhythm import plot_swm_pattern\n",
    "from neurodsp.plts.time_series import plot_time_series\n",
    "from neurodsp.utils import set_random_seed, create_times\n",
    "# Import listed chormap\n",
    "from matplotlib.colors import ListedColormap\n",
    "import matplotlib.dates as md\n",
    "from matplotlib import colors as mcolors\n",
    "# Scipy\n",
    "from scipy import signal\n",
    "from scipy import ndimage\n",
    "# TKinter for selecting files\n",
    "from tkinter import Tk     # from tkinter import Tk for Python 3.x\n",
    "from tkinter.filedialog import askdirectory\n",
    "\n",
    "# Add my module to python path\n",
    "sys.path.append(\"../\")\n",
    "\n",
    "# Own libraries\n",
    "from Neurogram_short import * # Recording, MyWavelet, MyWaveforms\n",
    "from additional_functions import * \n",
    "\n",
    "os.environ['KMP_DUPLICATE_LIB_OK']='True'"
   ]
  },
  {
   "cell_type": "code",
   "execution_count": 2,
   "outputs": [
    {
     "name": "stdout",
     "output_type": "stream",
     "text": [
      "../datasets/rat7&8/day2\n",
      "Loading from file C:/Users/airbl/OneDrive - University of Cambridge/Documents/Cambridge Work IIB/IIB Project/Code/code_Peter/datasets/rat7&8/day2/recording_230816_125923_152623_Port B.pkl\n",
      "0\n",
      "stop: 88484032\n",
      "10000.0\n",
      "['14', '15', '16', '17', '18', '20']\n",
      "                                ch_14      ch_15   ch_16   ch_17   ch_18  \\\n",
      "time                                                                       \n",
      "1970-01-01 00:00:00.000000 -23.400000 -27.299999  -2.340  -5.070 -11.115   \n",
      "1970-01-01 00:00:00.000100 -19.305000 -12.675000  -4.290  -1.950 -30.420   \n",
      "1970-01-01 00:00:00.000200 -14.040000  -4.290000  -0.195   2.730 -14.235   \n",
      "1970-01-01 00:00:00.000300 -26.325001  -7.995000   4.485  -0.780 -11.115   \n",
      "1970-01-01 00:00:00.000400 -13.845000  -0.195000  10.140  -2.730  -7.800   \n",
      "...                               ...        ...     ...     ...     ...   \n",
      "1970-01-01 02:27:28.402700   7.800000   6.825000   5.070   2.730  -8.190   \n",
      "1970-01-01 02:27:28.402800   6.435000   1.755000   6.240  10.920   3.120   \n",
      "1970-01-01 02:27:28.402900   0.975000  -5.460000  -1.755  -2.145   4.095   \n",
      "1970-01-01 02:27:28.403000  -8.580000  -4.680000  -3.315  -1.365   2.145   \n",
      "1970-01-01 02:27:28.403100  -4.875000  -7.605000  -7.995   1.170  -0.195   \n",
      "\n",
      "                                ch_20    seconds  window  \n",
      "time                                                      \n",
      "1970-01-01 00:00:00.000000  47.970001     0.0000       0  \n",
      "1970-01-01 00:00:00.000100  44.264999     0.0001       0  \n",
      "1970-01-01 00:00:00.000200  38.415001     0.0002       0  \n",
      "1970-01-01 00:00:00.000300  42.119999     0.0003       0  \n",
      "1970-01-01 00:00:00.000400  40.755001     0.0004       0  \n",
      "...                               ...        ...     ...  \n",
      "1970-01-01 02:27:28.402700  14.430000  8848.4027    8848  \n",
      "1970-01-01 02:27:28.402800  33.540001  8848.4028    8848  \n",
      "1970-01-01 02:27:28.402900  41.730000  8848.4029    8848  \n",
      "1970-01-01 02:27:28.403000  18.915001  8848.4030    8848  \n",
      "1970-01-01 02:27:28.403100  16.184999  8848.4031    8848  \n",
      "\n",
      "[88484032 rows x 8 columns]\n",
      "88484032\n",
      "Data loaded succesfully.\n",
      "Sampling frequency: 10000.0\n",
      "Recording length: 88484032(samples), 8848.4032(s): \n",
      "Time elapsed: 45.702964305877686 seconds\n"
     ]
    }
   ],
   "source": [
    "Tk().withdraw()  # keep the root window from appearing\n",
    "dir_name = ('../datasets/')\n",
    "\n",
    "path = '../datasets/rat7&8/day2' \n",
    "map_path = '../datasets/map_linear.csv'\n",
    "\n",
    "# When using port A: channels=range(0,32,1) by default port B:range(32,64,1)\n",
    "# Start and dur in samples\n",
    "# feinstein: channels=[0]\n",
    "time_start = time.time()\n",
    "load_from_file = True  # Keep it always to true\n",
    "downsample = 2  # Only when loading from raw - no need to use it\n",
    "start = 0\n",
    "dur = None\n",
    "\n",
    "port = 'Port A'  # Select port A or B for different recordings\n",
    "record = Recording.open_record(path, start=start, dur=dur,\n",
    "                               load_from_file=load_from_file,\n",
    "                               load_multiple_files=True,\n",
    "                               downsample=downsample,\n",
    "                               port=port,  # Select recording port\n",
    "                               map_path=map_path,\n",
    "                               verbose=0)\n",
    "\n",
    "# Create directory to save figures\n",
    "if not os.path.exists('%s/figures/' % (path)):\n",
    "    os.makedirs('%s/figures/' % (path))\n",
    "print(\"Time elapsed: {} seconds\".format(time.time() - time_start))\n",
    "\n",
    "#sys.exit()"
   ],
   "metadata": {
    "collapsed": false,
    "ExecuteTime": {
     "end_time": "2024-02-14T22:13:23.048811100Z",
     "start_time": "2024-02-14T22:12:37.246328Z"
    }
   },
   "id": "3a87edc5333a7907"
  },
  {
   "cell_type": "markdown",
   "source": [
    "# All Cells For Setting Up For Filtering:"
   ],
   "metadata": {
    "collapsed": false
   },
   "id": "bda748a5ff17a495"
  },
  {
   "cell_type": "code",
   "execution_count": 3,
   "outputs": [],
   "source": [
    "# Prepare channels\n",
    "\n",
    "channels = []\n",
    "for col in record.recording.columns:\n",
    "    if col.startswith('ch_'):\n",
    "        # self.recording[col] = self.recording[col].astype('float32')\n",
    "        channels.append(col.replace('ch_', ''))"
   ],
   "metadata": {
    "collapsed": false,
    "ExecuteTime": {
     "end_time": "2024-02-14T22:13:36.638349100Z",
     "start_time": "2024-02-14T22:13:36.613374500Z"
    }
   },
   "id": "cbb462c70946761f"
  },
  {
   "cell_type": "code",
   "execution_count": 4,
   "outputs": [],
   "source": [
    "# Get current time for saving (avoid overwriting)\n",
    "now = datetime.datetime.now()\n",
    "current_time = now.strftime(\"%d%m%Y_%H%M%S\")"
   ],
   "metadata": {
    "collapsed": false,
    "ExecuteTime": {
     "end_time": "2024-02-14T22:13:37.205216400Z",
     "start_time": "2024-02-14T22:13:37.163422400Z"
    }
   },
   "id": "66b7e0c1a45e8458"
  },
  {
   "cell_type": "code",
   "execution_count": 5,
   "outputs": [],
   "source": [
    "## Configuration\n",
    "# Do not change\n",
    "options_filter = [\n",
    "    \"None\",\n",
    "    \"butter\",\n",
    "    \"fir\"]  # Binomial Weighted Average Filter\n",
    "\n",
    "options_detection = [\n",
    "    \"get_spikes_threshCrossing\",  # Ojo: get_spikes_threshCrossing needs detects also cardiac \n",
    "    # spikes, so use cardiac_window. This method is slower\n",
    "    \"get_spikes_method\",  # Python implemented get_spikes() method. Faster\n",
    "    \"so_cfar\"]  # Smallest of constant false-alarm rate filter\n",
    "\n",
    "options_threshold = [\n",
    "    \"positive\",\n",
    "    \"negative\",\n",
    "    \"both_thresh\"]"
   ],
   "metadata": {
    "collapsed": false,
    "ExecuteTime": {
     "end_time": "2024-02-14T22:13:37.226336200Z",
     "start_time": "2024-02-14T22:13:37.185965800Z"
    }
   },
   "id": "371d69d0ee9ffacf"
  },
  {
   "cell_type": "code",
   "execution_count": 6,
   "outputs": [
    {
     "name": "stdout",
     "output_type": "stream",
     "text": [
      "SELECTED GENERAL CONFIGURATION:\n",
      "Filter: butter\n",
      "Detection: get_spikes_method\n",
      "Threhold type: positive\n",
      "Channels: ['14', '15', '16', '17', '18', '20']\n",
      "-------------------------------------\n",
      "map_array: [ 0  1  2  3  4  5  6  7  8  9 10 11 12 13 14 15 16 17 18 19 20 21 22 23\n",
      " 24 25 26 27 28 29 30 31]\n",
      "ch_loc: [14, 15, 16, 17, 18, 20]\n",
      "filter_ch ['ch_14', 'ch_15', 'ch_16', 'ch_17', 'ch_18', 'ch_20']\n",
      "column_ch ['14', '15', '16', '17', '18', '20']\n"
     ]
    }
   ],
   "source": [
    "# Configure\n",
    "config_text = []\n",
    "record.apply_filter = options_filter[1]    \n",
    "record.detect_method = options_detection[1]   # leave it to butter (option 1)                                 \n",
    "record.thresh_type = options_threshold[0]     # do not use it for now\n",
    "# Select channel position/number in intan (not channel number in device)\n",
    "\n",
    "# record.channels = [5,8,13]  # Select the channels to use. E.g. 5,8,13 for the recording you have now. Include 'all' to select all the channels available\n",
    "record.channels = channels\n",
    "\n",
    "record.path = path  \n",
    "config_text = ['Load_from_file %s' %load_from_file, 'Filter: %s'%record.apply_filter, 'Detection: %s'%record.detect_method, 'Threhold type: %s'%record.thresh_type, 'Channels: %s' %record.channels, 'Downsampling: %s' %downsample]\n",
    "config_text.append('Port %s' %(port))\n",
    "config_text.append('Start %s, Dur: %s' %(start,dur))\n",
    "config_text.append('Channels: %s' %record.channels)\n",
    "# Ramarkable timestamps (in sec) \n",
    "\n",
    "group = '1'\n",
    "\n",
    "print('SELECTED GENERAL CONFIGURATION:')\n",
    "print('Filter: %s'%record.apply_filter)\n",
    "print('Detection: %s'%record.detect_method)\n",
    "print('Threhold type: %s'%record.thresh_type)\n",
    "print('Channels: %s' %record.channels) \n",
    "print('-------------------------------------')\n",
    "\n",
    "record.select_channels(record.channels) # keep_ch_loc=True if we want to display following the map. Otherwise follow the order provided by selected channels.\n",
    "print('map_array: %s' %record.map_array)\n",
    "print('ch_loc: %s' %record.ch_loc)\n",
    "print('filter_ch %s' %record.filter_ch)\n",
    "print('column_ch %s' %record.column_ch)"
   ],
   "metadata": {
    "collapsed": false,
    "ExecuteTime": {
     "end_time": "2024-02-14T22:13:37.748964500Z",
     "start_time": "2024-02-14T22:13:37.719947100Z"
    }
   },
   "id": "c74a8c6df2546fc0"
  },
  {
   "cell_type": "code",
   "execution_count": 7,
   "outputs": [
    {
     "name": "stdout",
     "output_type": "stream",
     "text": [
      "14\n",
      "2\n",
      "1\n"
     ]
    }
   ],
   "source": [
    "# Configure\n",
    "record.num_rows = 2 #int(round(len(record.filter_ch)/2)) # round(n_components/2) \n",
    "record.num_columns = 1 #int(len(record.filter_ch)-round(len(record.filter_ch)/2))+1 \n",
    "plot_ch = int(record.map_array[record.ch_loc[0]])                                                \n",
    "print(plot_ch)\n",
    "print(record.num_rows)\n",
    "print(record.num_columns)\n",
    "save_figure = True"
   ],
   "metadata": {
    "collapsed": false,
    "ExecuteTime": {
     "end_time": "2024-02-14T22:13:38.552032700Z",
     "start_time": "2024-02-14T22:13:38.535028200Z"
    }
   },
   "id": "2d7bdb8f6850390c"
  },
  {
   "cell_type": "code",
   "execution_count": 8,
   "outputs": [],
   "source": [
    "# Gain\n",
    "gain = 1\n",
    "config_text.append('Gain: %s' %(gain))"
   ],
   "metadata": {
    "collapsed": false,
    "ExecuteTime": {
     "end_time": "2024-02-14T22:13:38.990746Z",
     "start_time": "2024-02-14T22:13:38.981748Z"
    }
   },
   "id": "de50ad51ed226351"
  },
  {
   "cell_type": "code",
   "execution_count": 9,
   "outputs": [],
   "source": [
    "# Maximum bpm\n",
    "bpm = 300\n",
    "record.set_bpm(bpm) # General max bpm in rat HR. Current neurograms at 180bpm\n",
    "config_text.append('BPM: %s' %(bpm))"
   ],
   "metadata": {
    "collapsed": false,
    "ExecuteTime": {
     "end_time": "2024-02-14T22:13:39.616089100Z",
     "start_time": "2024-02-14T22:13:39.603093100Z"
    }
   },
   "id": "825aa9de3a263f7f"
  },
  {
   "cell_type": "code",
   "execution_count": 10,
   "outputs": [],
   "source": [
    "# Final Initialisations - no change\n",
    "\n",
    "# Initialize dataframe for results \n",
    "#----------------------------------------------------\n",
    "record.rolling_metrics = pd.DataFrame()\n",
    "record.summary = pd.DataFrame(columns=['Max_spike_rate', 'Min_spike_rate',\n",
    "                                'Max_amplitude_sum', 'Min_amplitude_sum'])\n",
    "record.summary.index.name = 'channel'\n",
    "record.sig2noise = [] #To save the snr for each channel\n",
    "\n",
    "# Intialize dataframes for wavelet decomposition\n",
    "#---------------------------------------------------\n",
    "neural_wvl = pd.DataFrame(columns=record.filter_ch)\n",
    "neural_wvl_denoised = pd.DataFrame(columns=record.filter_ch)\n",
    "other_wvl = pd.DataFrame(columns=record.filter_ch)\n",
    "substraction_wvl = pd.DataFrame(columns=record.filter_ch)"
   ],
   "metadata": {
    "collapsed": false,
    "ExecuteTime": {
     "end_time": "2024-02-14T22:13:39.983222Z",
     "start_time": "2024-02-14T22:13:39.959506600Z"
    }
   },
   "id": "ce41da5b4945b9e2"
  },
  {
   "cell_type": "code",
   "execution_count": 11,
   "outputs": [],
   "source": [
    "# Config for bandpass filter\n",
    "\n",
    "filt_config = {\n",
    "    'W': [400, 4000],  # (max needs to be <fs/2 per Nyquist)\n",
    "    'None': {},\n",
    "    'butter': {\n",
    "            'N': 9,                # The order of the filter\n",
    "            'btype': 'bandpass', #'bandpass', #'hp'  #'lowpass'     # The type of filter.\n",
    "    },      \n",
    "    'fir': {\n",
    "            'n': 4,\n",
    "    },\n",
    "    'notch': {\n",
    "            'quality_factor': 30,\n",
    "    },\n",
    "}\n",
    "\n",
    "filt_config['butter']['Wn'] = filt_config['W']\n",
    "filt_config['butter']['fs'] = record.fs\n",
    "\n",
    "config_text.append('filt_config: %s' %json.dumps(filt_config))"
   ],
   "metadata": {
    "collapsed": false,
    "ExecuteTime": {
     "end_time": "2024-02-14T22:13:40.513555900Z",
     "start_time": "2024-02-14T22:13:40.490560100Z"
    }
   },
   "id": "127890c25f28c203"
  },
  {
   "cell_type": "code",
   "execution_count": 12,
   "outputs": [
    {
     "name": "stdout",
     "output_type": "stream",
     "text": [
      "{'N': 9, 'btype': 'bandpass', 'Wn': [400, 4000], 'fs': 10000.0}\n",
      "Time elapsed: 143.08090114593506 seconds\n"
     ]
    }
   ],
   "source": [
    "# Apply filter\n",
    "\n",
    "# Configure\n",
    "time_start = time.time()\n",
    "signal2filter = record.recording    # The neural data imported via pkl file \n",
    "config_text.append('signal2filter: %s' %signal2filter.name)\n",
    "record.filter(signal2filter, record.apply_filter, **filt_config[record.apply_filter])\n",
    "# Change from float64 to float 16\n",
    "record.filtered = convertDfType(record.filtered, typeFloat='float32')\n",
    "#print(record.filtered.dtypes)\n",
    "print(\"Time elapsed: {} seconds\".format(time.time()-time_start))"
   ],
   "metadata": {
    "collapsed": false,
    "ExecuteTime": {
     "end_time": "2024-02-14T22:16:06.538673900Z",
     "start_time": "2024-02-14T22:13:43.133657Z"
    }
   },
   "id": "1cb87ce34ccf9ea5"
  },
  {
   "cell_type": "markdown",
   "source": [
    "# Plot data - wide horizontal"
   ],
   "metadata": {
    "collapsed": false
   },
   "id": "57956f004fb98681"
  },
  {
   "cell_type": "code",
   "execution_count": 14,
   "outputs": [],
   "source": [
    "from matplotlib.widgets import Slider"
   ],
   "metadata": {
    "collapsed": false,
    "ExecuteTime": {
     "end_time": "2024-02-14T21:59:02.595261900Z",
     "start_time": "2024-02-14T21:59:02.526785900Z"
    }
   },
   "id": "902529ca36cd34a0"
  },
  {
   "cell_type": "code",
   "execution_count": 15,
   "outputs": [
    {
     "data": {
      "text/plain": "'14'"
     },
     "execution_count": 15,
     "metadata": {},
     "output_type": "execute_result"
    }
   ],
   "source": [
    "record.channels[0]"
   ],
   "metadata": {
    "collapsed": false,
    "ExecuteTime": {
     "end_time": "2024-02-14T21:59:03.241975700Z",
     "start_time": "2024-02-14T21:59:03.167731500Z"
    }
   },
   "id": "ae26705b0f6a4dc1"
  },
  {
   "cell_type": "code",
   "execution_count": 16,
   "outputs": [],
   "source": [
    "def plot_wide_single_channel(channel=record.channels[0], start_time=None, end_time=None, ylim=None):\n",
    "    \"\"\"\n",
    "    Plots one individual channel really wide, with scroller.\n",
    "    \n",
    "    start_time, end_time : [string] in mmmss format e.g. 2 hr 10 min 30 sec -> 13030(xxxx)\n",
    "                               ....(xxxx) optional - numbers behind the decimal point to specify fractions of a second\n",
    "    \"\"\"\n",
    "    if start_time is None:\n",
    "        start_index = 0\n",
    "    else:\n",
    "        start_index = 0\n",
    "        start_index += int(start_time[:3]) * 60 * Recording.window_length\n",
    "        start_index += int(start_time[3:5]) * Recording.window_length\n",
    "        if len(start_time) == 9:\n",
    "            start_index += int(start_time[5:])\n",
    "\n",
    "    if end_time is None:\n",
    "        end_index = len(record.recording.index)\n",
    "    else:\n",
    "        end_index = 0\n",
    "        end_index += int(end_time[:3]) * 60 * Recording.window_length\n",
    "        end_index += int(end_time[3:5]) * Recording.window_length\n",
    "        if len(end_time) == 9:\n",
    "            end_index += int(end_time[5:])\n",
    "    \n",
    "    fig, ax = plt.subplots()\n",
    "    plt.subplots_adjust(bottom=0.25)\n",
    "    x_range = [i for i in range(start_index, end_index)]\n",
    "    signal = record.filtered['ch_%s' % channel][x_range]\n",
    "    ax.plot(record.recording.index[x_range], signal)\n",
    "    \n",
    "    slider_ax = plt.axes([0.1, 0.1, 0.8, 0.03])\n",
    "    slider = Slider(slider_ax, 'Time', 0, 110, valinit=0, valstep=1)\n",
    "    \n",
    "    def update(val):\n",
    "        pos = slider.val\n",
    "        ax.set_xlim([record.recording.index[pos], record.recording.index[pos+600*Recording.window_length]])\n",
    "        fig.canvas.draw_idle()\n",
    "    \n",
    "    slider.on_changed(update)\n",
    "    \n",
    "    ax.set_title(\"Channel %s\" % channel)\n",
    "    ax.set_xlabel('Time')\n",
    "    ax.set_ylabel('Voltage [uV]')\n",
    "    if ylim is not None:\n",
    "        ax.set_ylim(ylim[0], ylim[1])\n",
    "    plt.show()\n",
    "    "
   ],
   "metadata": {
    "collapsed": false,
    "ExecuteTime": {
     "end_time": "2024-02-14T21:59:05.107765Z",
     "start_time": "2024-02-14T21:59:05.061242500Z"
    }
   },
   "id": "28d7a855ba0ba87a"
  },
  {
   "cell_type": "code",
   "execution_count": 27,
   "outputs": [],
   "source": [
    "import matplotlib as mpl"
   ],
   "metadata": {
    "collapsed": false,
    "ExecuteTime": {
     "end_time": "2024-02-14T22:02:46.091187500Z",
     "start_time": "2024-02-14T22:02:46.070187900Z"
    }
   },
   "id": "a78427b8e536327d"
  },
  {
   "cell_type": "code",
   "execution_count": 17,
   "outputs": [
    {
     "name": "stdout",
     "output_type": "stream",
     "text": [
      "Warning: Cannot change to a different GUI toolkit: notebook. Using widget instead.\n"
     ]
    }
   ],
   "source": [
    "%matplotlib notebook \n",
    "import mpld3\n",
    "mpld3.enable_notebook()"
   ],
   "metadata": {
    "collapsed": false,
    "ExecuteTime": {
     "end_time": "2024-02-14T21:59:11.615045600Z",
     "start_time": "2024-02-14T21:59:11.222394300Z"
    }
   },
   "id": "1187157761558d10"
  },
  {
   "cell_type": "code",
   "execution_count": 23,
   "outputs": [],
   "source": [
    "# mpl.use('TkAgg')"
   ],
   "metadata": {
    "collapsed": false,
    "ExecuteTime": {
     "end_time": "2024-02-14T21:47:13.192312200Z",
     "start_time": "2024-02-14T21:47:13.174129700Z"
    }
   },
   "id": "6e8c9008febb2d68"
  },
  {
   "cell_type": "code",
   "execution_count": 24,
   "outputs": [
    {
     "name": "stdout",
     "output_type": "stream",
     "text": [
      "18000000\n"
     ]
    }
   ],
   "source": [
    "plot_wide_single_channel(end_time=\"03000\")"
   ],
   "metadata": {
    "collapsed": false,
    "ExecuteTime": {
     "end_time": "2024-02-14T21:47:29.233271200Z",
     "start_time": "2024-02-14T21:47:15.005180Z"
    }
   },
   "id": "ad032fe9145eb450"
  },
  {
   "cell_type": "markdown",
   "source": [
    "## No Using Functions"
   ],
   "metadata": {
    "collapsed": false
   },
   "id": "464d4976997dbf46"
  },
  {
   "cell_type": "code",
   "execution_count": 22,
   "outputs": [],
   "source": [
    "start_time = None \n",
    "end_time = \"03000\"\n",
    "channel = '14'\n",
    "ylim = None"
   ],
   "metadata": {
    "collapsed": false,
    "ExecuteTime": {
     "end_time": "2024-02-14T22:08:18.418342300Z",
     "start_time": "2024-02-14T22:08:18.407817500Z"
    }
   },
   "id": "acf0a537766da4fd"
  },
  {
   "cell_type": "code",
   "execution_count": 15,
   "outputs": [],
   "source": [
    "if start_time is None:\n",
    "    start_index = 0\n",
    "else:\n",
    "    start_index = 0\n",
    "    start_index += int(start_time[:3]) * 60 * Recording.window_length\n",
    "    start_index += int(start_time[3:5]) * Recording.window_length\n",
    "    if len(start_time) == 9:\n",
    "        start_index += int(start_time[5:])\n",
    "\n",
    "if end_time is None:\n",
    "    end_index = len(record.recording.index)\n",
    "else:\n",
    "    end_index = 0\n",
    "    end_index += int(end_time[:3]) * 60 * Recording.window_length\n",
    "    end_index += int(end_time[3:5]) * Recording.window_length\n",
    "    if len(end_time) == 9:\n",
    "        end_index += int(end_time[5:])"
   ],
   "metadata": {
    "collapsed": false,
    "ExecuteTime": {
     "end_time": "2024-02-14T22:07:07.333579600Z",
     "start_time": "2024-02-14T22:07:07.307085900Z"
    }
   },
   "id": "55884c7d4e903986"
  },
  {
   "cell_type": "code",
   "execution_count": 16,
   "outputs": [
    {
     "name": "stdout",
     "output_type": "stream",
     "text": [
      "Qt version: 5.15.2\n"
     ]
    }
   ],
   "source": [
    "from PyQt5.QtCore import QT_VERSION_STR\n",
    "print(\"Qt version:\", QT_VERSION_STR)\n"
   ],
   "metadata": {
    "collapsed": false,
    "ExecuteTime": {
     "end_time": "2024-02-14T22:07:09.147092600Z",
     "start_time": "2024-02-14T22:07:09.080161200Z"
    }
   },
   "id": "1fa70e0ec02d9cbb"
  },
  {
   "cell_type": "code",
   "execution_count": 21,
   "outputs": [],
   "source": [
    "import matplotlib as mpl\n",
    "mpl.use('Qt5Agg')\n",
    "from matplotlib.widgets import Slider"
   ],
   "metadata": {
    "collapsed": false,
    "ExecuteTime": {
     "end_time": "2024-02-14T22:08:15.527390900Z",
     "start_time": "2024-02-14T22:08:15.508206700Z"
    }
   },
   "id": "23022ec3c2ce3143"
  },
  {
   "cell_type": "code",
   "execution_count": 23,
   "outputs": [],
   "source": [
    "fig, ax = plt.subplots()\n",
    "plt.subplots_adjust(bottom=0.25)\n",
    "x_range = [i for i in range(start_index, end_index)]\n",
    "signal = record.filtered['ch_%s' % channel][x_range]\n",
    "ax.plot(record.recording.index[x_range], signal)\n",
    "\n",
    "slider_ax = plt.axes([0.1, 0.1, 0.8, 0.03])\n",
    "slider = Slider(slider_ax, 'Time', 0, 110, valinit=0, valstep=1)\n",
    "\n",
    "def update(val):\n",
    "    pos = slider.val\n",
    "    ax.set_xlim([record.recording.index[pos], record.recording.index[pos+600*Recording.window_length]])\n",
    "    fig.canvas.draw_idle()\n",
    "\n",
    "slider.on_changed(update)\n",
    "\n",
    "ax.set_title(\"Channel %s\" % channel)\n",
    "ax.set_xlabel('Time')\n",
    "ax.set_ylabel('Voltage [uV]')\n",
    "if ylim is not None:\n",
    "    ax.set_ylim(ylim[0], ylim[1])\n",
    "plt.show()\n",
    "    "
   ],
   "metadata": {
    "collapsed": false,
    "ExecuteTime": {
     "end_time": "2024-02-14T22:08:31.119318100Z",
     "start_time": "2024-02-14T22:08:20.528213300Z"
    }
   },
   "id": "1386d6338d35f75b"
  },
  {
   "cell_type": "code",
   "execution_count": null,
   "outputs": [],
   "source": [
    "from matplotlib.widgets import Slider"
   ],
   "metadata": {
    "collapsed": false
   },
   "id": "f853b5a57a5de0b5"
  },
  {
   "cell_type": "code",
   "execution_count": 13,
   "outputs": [
    {
     "name": "stderr",
     "output_type": "stream",
     "text": [
      "C:\\Users\\airbl\\AppData\\Local\\Temp\\ipykernel_31664\\3970939652.py:21: MatplotlibDeprecationWarning: Passing the valinit parameter of __init__() positionally is deprecated since Matplotlib 3.7; the parameter will become keyword-only two minor releases later.\n",
      "  freq = Slider(axfreq, 'Frequency', 0.0, 20.0, 3)\n",
      "C:\\Users\\airbl\\AppData\\Local\\Temp\\ipykernel_31664\\3970939652.py:25: MatplotlibDeprecationWarning: Passing the valinit parameter of __init__() positionally is deprecated since Matplotlib 3.7; the parameter will become keyword-only two minor releases later.\n",
      "  amplitude = Slider(axamplitude, 'Amplitude', 0.0,\n"
     ]
    },
    {
     "data": {
      "text/plain": "Canvas(toolbar=Toolbar(toolitems=[('Home', 'Reset original view', 'home', 'home'), ('Back', 'Back to previous …",
      "image/png": "[encoded data removed]",
      "text/html": "\n            <div style=\"display: inline-block;\">\n                <div class=\"jupyter-widgets widget-label\" style=\"text-align: center;\">\n                    Figure\n                </div>\n                <img src='data:image/png;base64,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' width=640.0/>\n            </div>\n        ",
      "application/vnd.jupyter.widget-view+json": {
       "version_major": 2,
       "version_minor": 0,
       "model_id": "3b07f44b89c045b585483af8d94d589b"
      }
     },
     "metadata": {},
     "output_type": "display_data"
    }
   ],
   "source": [
    "# Import libraries\n",
    "import numpy as np\n",
    "import matplotlib.pyplot as plt\n",
    "from matplotlib.widgets import Slider, Button\n",
    " \n",
    "# Create subplot\n",
    "fig, ax = plt.subplots()\n",
    "plt.subplots_adjust(bottom=0.35)\n",
    " \n",
    "# Create and plot sine wave\n",
    "t = np.arange(0.0, 1.0, 0.001)\n",
    "s = 5 * np.sin(2 * np.pi * 3 * t)\n",
    "l, = plt.plot(t, s)\n",
    " \n",
    "# Create axes for frequency and amplitude sliders\n",
    "axfreq = plt.axes([0.25, 0.15, 0.65, 0.03])\n",
    "axamplitude = plt.axes([0.25, 0.1, 0.65, 0.03])\n",
    " \n",
    "# Create a slider from 0.0 to 20.0 in axes axfreq\n",
    "# with 3 as initial value\n",
    "freq = Slider(axfreq, 'Frequency', 0.0, 20.0, 3)\n",
    " \n",
    "# Create a slider from 0.0 to 10.0 in axes axfreq\n",
    "# with 5 as initial value and valsteps of 1.0\n",
    "amplitude = Slider(axamplitude, 'Amplitude', 0.0,\n",
    "                   10.0, 5, valstep=1.0)\n",
    " \n",
    "# Create function to be called when slider value is changed\n",
    " \n",
    "def update(val):\n",
    "    f = freq.val\n",
    "    a = amplitude.val\n",
    "    l.set_ydata(a*np.sin(2*np.pi*f*t))\n",
    " \n",
    "# Call update function when slider value is changed\n",
    "freq.on_changed(update)\n",
    "amplitude.on_changed(update)\n",
    " \n",
    "# display graph\n",
    "plt.show()"
   ],
   "metadata": {
    "collapsed": false,
    "ExecuteTime": {
     "end_time": "2024-02-14T22:16:31.726302600Z",
     "start_time": "2024-02-14T22:16:30.438823600Z"
    }
   },
   "id": "e3bcf4f55b1c2a3a"
  }
 ],
 "metadata": {
  "kernelspec": {
   "display_name": "Python 3",
   "language": "python",
   "name": "python3"
  },
  "language_info": {
   "codemirror_mode": {
    "name": "ipython",
    "version": 2
   },
   "file_extension": ".py",
   "mimetype": "text/x-python",
   "name": "python",
   "nbconvert_exporter": "python",
   "pygments_lexer": "ipython2",
   "version": "2.7.6"
  }
 },
 "nbformat": 4,
 "nbformat_minor": 5
}
