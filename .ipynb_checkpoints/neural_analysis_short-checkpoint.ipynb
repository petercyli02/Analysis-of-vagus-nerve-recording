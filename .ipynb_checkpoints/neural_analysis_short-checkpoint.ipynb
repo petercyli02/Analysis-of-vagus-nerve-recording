{
 "cells": [
  {
   "cell_type": "markdown",
   "id": "3e961d4d",
   "metadata": {
    "toc": true
   },
   "source": [
    "### List of goals\n",
    "- Goal 1: clean the signal from artifacts and plan the best strategy for analysis: implement any code that is needed to further clean the signal and think on the best way to achieve goal 2\n",
    "- Goal 2: decode glucose information from VN recordings: e.g. right before eating, glucose change.."
   ]
  },
  {
   "cell_type": "code",
   "execution_count": 4,
   "id": "b2a5bfd2",
   "metadata": {},
   "outputs": [
    {
     "ename": "ValueError",
     "evalue": "numpy.ndarray size changed, may indicate binary incompatibility. Expected 96 from C header, got 88 from PyObject",
     "output_type": "error",
     "traceback": [
      "\u001b[1;31m---------------------------------------------------------------------------\u001b[0m",
      "\u001b[1;31mValueError\u001b[0m                                Traceback (most recent call last)",
      "\u001b[1;32m~\\AppData\\Local\\Temp\\ipykernel_56520\\4226251742.py\u001b[0m in \u001b[0;36m<module>\u001b[1;34m\u001b[0m\n\u001b[0;32m     13\u001b[0m \u001b[1;32mimport\u001b[0m \u001b[0mtime\u001b[0m\u001b[1;33m\u001b[0m\u001b[1;33m\u001b[0m\u001b[0m\n\u001b[0;32m     14\u001b[0m \u001b[1;32mimport\u001b[0m \u001b[0mdatetime\u001b[0m\u001b[1;33m\u001b[0m\u001b[1;33m\u001b[0m\u001b[0m\n\u001b[1;32m---> 15\u001b[1;33m \u001b[1;32mimport\u001b[0m \u001b[0mpycwt\u001b[0m\u001b[1;33m\u001b[0m\u001b[1;33m\u001b[0m\u001b[0m\n\u001b[0m\u001b[0;32m     16\u001b[0m \u001b[1;32mimport\u001b[0m \u001b[0mstatistics\u001b[0m\u001b[1;33m\u001b[0m\u001b[1;33m\u001b[0m\u001b[0m\n\u001b[0;32m     17\u001b[0m \u001b[1;32mimport\u001b[0m \u001b[0mrandom\u001b[0m\u001b[1;33m\u001b[0m\u001b[1;33m\u001b[0m\u001b[0m\n",
      "\u001b[1;32m~\\anaconda3\\lib\\site-packages\\pycwt\\__init__.py\u001b[0m in \u001b[0;36m<module>\u001b[1;34m\u001b[0m\n\u001b[0;32m     83\u001b[0m \u001b[1;33m\u001b[0m\u001b[0m\n\u001b[0;32m     84\u001b[0m \u001b[1;32mfrom\u001b[0m \u001b[0mpycwt\u001b[0m\u001b[1;33m.\u001b[0m\u001b[0m_version_\u001b[0m \u001b[1;32mimport\u001b[0m \u001b[0m__version__\u001b[0m\u001b[1;33m,\u001b[0m \u001b[0mversion\u001b[0m\u001b[1;33m\u001b[0m\u001b[1;33m\u001b[0m\u001b[0m\n\u001b[1;32m---> 85\u001b[1;33m \u001b[1;32mfrom\u001b[0m \u001b[0mpycwt\u001b[0m\u001b[1;33m.\u001b[0m\u001b[0mwavelet\u001b[0m \u001b[1;32mimport\u001b[0m \u001b[1;33m*\u001b[0m\u001b[1;33m\u001b[0m\u001b[1;33m\u001b[0m\u001b[0m\n\u001b[0m\u001b[0;32m     86\u001b[0m \u001b[1;33m\u001b[0m\u001b[0m\n\u001b[0;32m     87\u001b[0m __all__ = [\n",
      "\u001b[1;32m~\\anaconda3\\lib\\site-packages\\pycwt\\wavelet.py\u001b[0m in \u001b[0;36m<module>\u001b[1;34m\u001b[0m\n\u001b[0;32m      2\u001b[0m \u001b[1;33m\u001b[0m\u001b[0m\n\u001b[0;32m      3\u001b[0m \u001b[1;32mimport\u001b[0m \u001b[0mnumpy\u001b[0m\u001b[1;33m\u001b[0m\u001b[1;33m\u001b[0m\u001b[0m\n\u001b[1;32m----> 4\u001b[1;33m \u001b[1;32mfrom\u001b[0m \u001b[0mscipy\u001b[0m\u001b[1;33m.\u001b[0m\u001b[0mstats\u001b[0m \u001b[1;32mimport\u001b[0m \u001b[0mchi2\u001b[0m\u001b[1;33m\u001b[0m\u001b[1;33m\u001b[0m\u001b[0m\n\u001b[0m\u001b[0;32m      5\u001b[0m \u001b[1;32mfrom\u001b[0m \u001b[0mtqdm\u001b[0m \u001b[1;32mimport\u001b[0m \u001b[0mtqdm\u001b[0m\u001b[1;33m\u001b[0m\u001b[1;33m\u001b[0m\u001b[0m\n\u001b[0;32m      6\u001b[0m \u001b[1;33m\u001b[0m\u001b[0m\n",
      "\u001b[1;32m~\\anaconda3\\lib\\site-packages\\scipy\\stats\\__init__.py\u001b[0m in \u001b[0;36m<module>\u001b[1;34m\u001b[0m\n\u001b[0;32m    606\u001b[0m from ._warnings_errors import (ConstantInputWarning, NearConstantInputWarning,\n\u001b[0;32m    607\u001b[0m                                DegenerateDataWarning, FitError)\n\u001b[1;32m--> 608\u001b[1;33m \u001b[1;32mfrom\u001b[0m \u001b[1;33m.\u001b[0m\u001b[0m_stats_py\u001b[0m \u001b[1;32mimport\u001b[0m \u001b[1;33m*\u001b[0m\u001b[1;33m\u001b[0m\u001b[1;33m\u001b[0m\u001b[0m\n\u001b[0m\u001b[0;32m    609\u001b[0m \u001b[1;32mfrom\u001b[0m \u001b[1;33m.\u001b[0m\u001b[0m_variation\u001b[0m \u001b[1;32mimport\u001b[0m \u001b[0mvariation\u001b[0m\u001b[1;33m\u001b[0m\u001b[1;33m\u001b[0m\u001b[0m\n\u001b[0;32m    610\u001b[0m \u001b[1;32mfrom\u001b[0m \u001b[1;33m.\u001b[0m\u001b[0mdistributions\u001b[0m \u001b[1;32mimport\u001b[0m \u001b[1;33m*\u001b[0m\u001b[1;33m\u001b[0m\u001b[1;33m\u001b[0m\u001b[0m\n",
      "\u001b[1;32m~\\anaconda3\\lib\\site-packages\\scipy\\stats\\_stats_py.py\u001b[0m in \u001b[0;36m<module>\u001b[1;34m\u001b[0m\n\u001b[0;32m     37\u001b[0m \u001b[1;32mfrom\u001b[0m \u001b[0mnumpy\u001b[0m\u001b[1;33m.\u001b[0m\u001b[0mtesting\u001b[0m \u001b[1;32mimport\u001b[0m \u001b[0msuppress_warnings\u001b[0m\u001b[1;33m\u001b[0m\u001b[1;33m\u001b[0m\u001b[0m\n\u001b[0;32m     38\u001b[0m \u001b[1;33m\u001b[0m\u001b[0m\n\u001b[1;32m---> 39\u001b[1;33m \u001b[1;32mfrom\u001b[0m \u001b[0mscipy\u001b[0m\u001b[1;33m.\u001b[0m\u001b[0mspatial\u001b[0m\u001b[1;33m.\u001b[0m\u001b[0mdistance\u001b[0m \u001b[1;32mimport\u001b[0m \u001b[0mcdist\u001b[0m\u001b[1;33m\u001b[0m\u001b[1;33m\u001b[0m\u001b[0m\n\u001b[0m\u001b[0;32m     40\u001b[0m \u001b[1;32mfrom\u001b[0m \u001b[0mscipy\u001b[0m\u001b[1;33m.\u001b[0m\u001b[0mndimage\u001b[0m \u001b[1;32mimport\u001b[0m \u001b[0m_measurements\u001b[0m\u001b[1;33m\u001b[0m\u001b[1;33m\u001b[0m\u001b[0m\n\u001b[0;32m     41\u001b[0m from scipy._lib._util import (check_random_state, MapWrapper, _get_nan,\n",
      "\u001b[1;32m~\\anaconda3\\lib\\site-packages\\scipy\\spatial\\__init__.py\u001b[0m in \u001b[0;36m<module>\u001b[1;34m\u001b[0m\n\u001b[0;32m    108\u001b[0m \"\"\"\n\u001b[0;32m    109\u001b[0m \u001b[1;33m\u001b[0m\u001b[0m\n\u001b[1;32m--> 110\u001b[1;33m \u001b[1;32mfrom\u001b[0m \u001b[1;33m.\u001b[0m\u001b[0m_kdtree\u001b[0m \u001b[1;32mimport\u001b[0m \u001b[1;33m*\u001b[0m\u001b[1;33m\u001b[0m\u001b[1;33m\u001b[0m\u001b[0m\n\u001b[0m\u001b[0;32m    111\u001b[0m \u001b[1;32mfrom\u001b[0m \u001b[1;33m.\u001b[0m\u001b[0m_ckdtree\u001b[0m \u001b[1;32mimport\u001b[0m \u001b[1;33m*\u001b[0m\u001b[1;33m\u001b[0m\u001b[1;33m\u001b[0m\u001b[0m\n\u001b[0;32m    112\u001b[0m \u001b[1;32mfrom\u001b[0m \u001b[1;33m.\u001b[0m\u001b[0m_qhull\u001b[0m \u001b[1;32mimport\u001b[0m \u001b[1;33m*\u001b[0m\u001b[1;33m\u001b[0m\u001b[1;33m\u001b[0m\u001b[0m\n",
      "\u001b[1;32m~\\anaconda3\\lib\\site-packages\\scipy\\spatial\\_kdtree.py\u001b[0m in \u001b[0;36m<module>\u001b[1;34m\u001b[0m\n\u001b[0;32m      2\u001b[0m \u001b[1;31m# Released under the scipy license\u001b[0m\u001b[1;33m\u001b[0m\u001b[1;33m\u001b[0m\u001b[0m\n\u001b[0;32m      3\u001b[0m \u001b[1;32mimport\u001b[0m \u001b[0mnumpy\u001b[0m \u001b[1;32mas\u001b[0m \u001b[0mnp\u001b[0m\u001b[1;33m\u001b[0m\u001b[1;33m\u001b[0m\u001b[0m\n\u001b[1;32m----> 4\u001b[1;33m \u001b[1;32mfrom\u001b[0m \u001b[1;33m.\u001b[0m\u001b[0m_ckdtree\u001b[0m \u001b[1;32mimport\u001b[0m \u001b[0mcKDTree\u001b[0m\u001b[1;33m,\u001b[0m \u001b[0mcKDTreeNode\u001b[0m\u001b[1;33m\u001b[0m\u001b[1;33m\u001b[0m\u001b[0m\n\u001b[0m\u001b[0;32m      5\u001b[0m \u001b[1;33m\u001b[0m\u001b[0m\n\u001b[0;32m      6\u001b[0m __all__ = ['minkowski_distance_p', 'minkowski_distance',\n",
      "\u001b[1;32m_ckdtree.pyx\u001b[0m in \u001b[0;36minit scipy.spatial._ckdtree\u001b[1;34m()\u001b[0m\n",
      "\u001b[1;31mValueError\u001b[0m: numpy.ndarray size changed, may indicate binary incompatibility. Expected 96 from C header, got 88 from PyObject"
     ]
    }
   ],
   "source": [
    "import IPython\n",
    "# IPython.Application.instance().kernel.do_shutdown(True)\n",
    "\n",
    "# %matplotlib notebook \n",
    "#import mpld3\n",
    "#mpld3.enable_notebook()\n",
    "\n",
    "%matplotlib widget\n",
    "\n",
    "import os\n",
    "import sys\n",
    "import json\n",
    "import time\n",
    "import datetime\n",
    "import pycwt\n",
    "import statistics\n",
    "import random\n",
    "import pickle\n",
    "import numpy as np\n",
    "import scipy as sp\n",
    "import pandas as pd\n",
    "import seaborn as sns\n",
    "import sklearn as sk\n",
    "import tkinter as tk\n",
    "import matplotlib.pyplot as plt\n",
    "from sklearn import metrics\n",
    "from sklearn import decomposition\n",
    "from sklearn.decomposition import PCA\n",
    "from tkinter import *\n",
    "from tkinter import ttk\n",
    "from sklearn import preprocessing\n",
    "from datetime import date\n",
    "import matplotlib.dates as mdates\n",
    "\n",
    "from neurodsp.rhythm import sliding_window_matching\n",
    "from neurodsp.utils.download import load_ndsp_data\n",
    "from neurodsp.plts.rhythm import plot_swm_pattern\n",
    "from neurodsp.plts.time_series import plot_time_series\n",
    "from neurodsp.utils import set_random_seed, create_times\n",
    "# Import listed chormap\n",
    "from matplotlib.colors import ListedColormap\n",
    "import matplotlib.dates as md\n",
    "from matplotlib import colors as mcolors\n",
    "# Scipy\n",
    "from scipy import signal\n",
    "from scipy import ndimage\n",
    "# TKinter for selecting files\n",
    "from tkinter import Tk     # from tkinter import Tk for Python 3.x\n",
    "from tkinter.filedialog import askdirectory\n",
    "\n",
    "# Add my module to python path\n",
    "sys.path.append(\"../\")\n",
    "\n",
    "# Own libraries\n",
    "from Neurogram_short import * # Recording, MyWavelet, MyWaveforms\n",
    "\n",
    "os.environ['KMP_DUPLICATE_LIB_OK']='True'"
   ]
  },
  {
   "cell_type": "markdown",
   "id": "9676d777",
   "metadata": {},
   "source": [
    "## Load data"
   ]
  },
  {
   "cell_type": "code",
   "execution_count": 2,
   "id": "45341f74",
   "metadata": {},
   "outputs": [
    {
     "ename": "NameError",
     "evalue": "name 'Tk' is not defined",
     "output_type": "error",
     "traceback": [
      "\u001b[1;31m---------------------------------------------------------------------------\u001b[0m",
      "\u001b[1;31mNameError\u001b[0m                                 Traceback (most recent call last)",
      "\u001b[1;32m~\\AppData\\Local\\Temp\\ipykernel_56520\\2481906519.py\u001b[0m in \u001b[0;36m<module>\u001b[1;34m\u001b[0m\n\u001b[1;32m----> 1\u001b[1;33m \u001b[0mTk\u001b[0m\u001b[1;33m(\u001b[0m\u001b[1;33m)\u001b[0m\u001b[1;33m.\u001b[0m\u001b[0mwithdraw\u001b[0m\u001b[1;33m(\u001b[0m\u001b[1;33m)\u001b[0m  \u001b[1;31m# keep the root window from appearing\u001b[0m\u001b[1;33m\u001b[0m\u001b[1;33m\u001b[0m\u001b[0m\n\u001b[0m\u001b[0;32m      2\u001b[0m \u001b[0mdir_name\u001b[0m \u001b[1;33m=\u001b[0m \u001b[1;33m(\u001b[0m\u001b[1;34m'../datasets/'\u001b[0m\u001b[1;33m)\u001b[0m\u001b[1;33m\u001b[0m\u001b[1;33m\u001b[0m\u001b[0m\n\u001b[0;32m      3\u001b[0m \u001b[0mpath\u001b[0m \u001b[1;33m=\u001b[0m \u001b[1;34m'../datasets/rat5/day1'\u001b[0m \u001b[1;31m# Port A\u001b[0m\u001b[1;33m\u001b[0m\u001b[1;33m\u001b[0m\u001b[0m\n\u001b[0;32m      4\u001b[0m \u001b[1;33m\u001b[0m\u001b[0m\n\u001b[0;32m      5\u001b[0m \u001b[0mmap_path\u001b[0m \u001b[1;33m=\u001b[0m \u001b[1;34m'../datasets/map_linear.csv'\u001b[0m\u001b[1;33m\u001b[0m\u001b[1;33m\u001b[0m\u001b[0m\n",
      "\u001b[1;31mNameError\u001b[0m: name 'Tk' is not defined"
     ]
    }
   ],
   "source": [
    "Tk().withdraw()  # keep the root window from appearing\n",
    "dir_name = ('../datasets/')\n",
    "path = '../datasets/rat5/day1' # Port A\n",
    "\n",
    "map_path = '../datasets/map_linear.csv'\n",
    "\n",
    "# When using port A: channels=range(0,32,1) by default port B:range(32,64,1)\n",
    "# Start and dur in samples\n",
    "# feinstein: channels=[0]\n",
    "time_start = time.time()\n",
    "load_from_file=True     # Keep it always to true\n",
    "downsample = 2             #Only when loading from raw - no need to use it \n",
    "start= 0                   \n",
    "dur= None                \n",
    "port = 'Port A'  # Select port A or B for different recordings\n",
    "record = Recording.open_record(path, start=start, dur=dur, \n",
    "                               load_from_file=load_from_file, \n",
    "                               load_multiple_files=True,\n",
    "                               downsample=downsample,\n",
    "                               port=port  ,  # Select recording port\n",
    "                               map_path=map_path,\n",
    "                               verbose=0)\n",
    "\n",
    "# Create directory to save figures\n",
    "if not os.path.exists('%s/figures/' %(path)):\n",
    "    os.makedirs('%s/figures/' %(path))\n",
    "print(\"Time elapsed: {} seconds\".format(time.time()-time_start)) \n",
    "\n",
    "#sys.exit()\n"
   ]
  },
  {
   "cell_type": "code",
   "execution_count": null,
   "id": "2b83fdbc",
   "metadata": {},
   "outputs": [],
   "source": [
    "# Get current time for saving (avoid overwriting)\n",
    "now = datetime.datetime.now()\n",
    "current_time = now.strftime(\"%d%m%Y_%H%M%S\")"
   ]
  },
  {
   "cell_type": "code",
   "execution_count": null,
   "id": "3f2fd79b",
   "metadata": {},
   "outputs": [],
   "source": [
    "## Configuration"
   ]
  },
  {
   "cell_type": "code",
   "execution_count": null,
   "id": "0b0f3074",
   "metadata": {},
   "outputs": [],
   "source": [
    "# Do not change\n",
    "options_filter = [\n",
    "    \"None\", \n",
    "    \"butter\", \n",
    "    \"fir\"]                # Binomial Weighted Average Filter\n",
    "\n",
    "options_detection = [\n",
    "    \"get_spikes_threshCrossing\", # Ojo: get_spikes_threshCrossing needs detects also cardiac \n",
    "                                     # spikes, so use cardiac_window. This method is slower\n",
    "    \"get_spikes_method\",         # Python implemented get_spikes() method. Faster\n",
    "    \"so_cfar\"]                    # Smallest of constant false-alarm rate filter\n",
    "\n",
    "options_threshold = [\n",
    "    \"positive\",\n",
    "    \"negative\", \n",
    "    \"both_thresh\"]"
   ]
  },
  {
   "cell_type": "code",
   "execution_count": null,
   "id": "ca88e845",
   "metadata": {},
   "outputs": [],
   "source": [
    "# Configure\n",
    "config_text = []\n",
    "record.apply_filter = options_filter[1]    \n",
    "record.detect_method = options_detection[1]   # leave it to butter (option 1)                                 \n",
    "record.thresh_type = options_threshold[0]     # do not use it for now\n",
    "# Select channel position/number in intan (not channel number in device)\n",
    "\n",
    "record.channels = [3,13,18]  # Select the channels to use. E.g. 5,8,13 for the recording you have now\n",
    "record.path = path  \n",
    "config_text = ['Load_from_file %s' %load_from_file, 'Filter: %s'%record.apply_filter, 'Detection: %s'%record.detect_method, 'Threhold type: %s'%record.thresh_type, 'Channels: %s' %record.channels, 'Downsampling: %s' %downsample]\n",
    "config_text.append('Port %s' %(port))\n",
    "config_text.append('Start %s, Dur: %s' %(start,dur))\n",
    "config_text.append('Channels: %s' %record.channels)\n",
    "# Ramarkable timestamps (in sec) \n",
    "\n",
    "group = '1'\n",
    "\n",
    "print('SELECTED GENERAL CONFIGURATION:')\n",
    "print('Filter: %s'%record.apply_filter)\n",
    "print('Detection: %s'%record.detect_method)\n",
    "print('Threhold type: %s'%record.thresh_type)\n",
    "print('Channels: %s' %record.channels) \n",
    "print('-------------------------------------')\n",
    "\n",
    "record.select_channels(record.channels) # keep_ch_loc=True if we want to display following the map. Otherwise follow the order provided by selected channels.\n",
    "print('map_array: %s' %record.map_array)\n",
    "print('ch_loc: %s' %record.ch_loc)\n",
    "print('filter_ch %s' %record.filter_ch)\n",
    "print('column_ch %s' %record.column_ch)"
   ]
  },
  {
   "cell_type": "markdown",
   "id": "042e12d7",
   "metadata": {},
   "source": [
    "#### Select visualization options:  "
   ]
  },
  {
   "cell_type": "code",
   "execution_count": null,
   "id": "826db0ab",
   "metadata": {},
   "outputs": [],
   "source": [
    "# Configure\n",
    "record.num_rows = 2#int(round(len(record.filter_ch)/2)) # round(n_components/2) \n",
    "record.num_columns = 1#int(len(record.filter_ch)-round(len(record.filter_ch)/2))+1 \n",
    "plot_ch = int(record.map_array[record.ch_loc[0]])                \n",
    "print(plot_ch)\n",
    "print(record.num_rows)\n",
    "print(record.num_columns)\n",
    "save_figure = True"
   ]
  },
  {
   "cell_type": "markdown",
   "id": "f434ecb2",
   "metadata": {},
   "source": [
    "##### Gain"
   ]
  },
  {
   "cell_type": "code",
   "execution_count": null,
   "id": "78a6d286",
   "metadata": {},
   "outputs": [],
   "source": [
    "gain = 1\n",
    "config_text.append('Gain: %s' %(gain))"
   ]
  },
  {
   "cell_type": "markdown",
   "id": "58a1b0a1",
   "metadata": {},
   "source": [
    "##### Maximum bpm"
   ]
  },
  {
   "cell_type": "code",
   "execution_count": null,
   "id": "0eb453a0",
   "metadata": {},
   "outputs": [],
   "source": [
    "bpm = 300\n",
    "record.set_bpm(bpm) # General max bpm in rat HR. Current neurograms at 180bpm\n",
    "config_text.append('BPM: %s' %(bpm))"
   ]
  },
  {
   "cell_type": "markdown",
   "id": "d379fd51",
   "metadata": {
    "jp-MarkdownHeadingCollapsed": true,
    "tags": []
   },
   "source": [
    "#### Final initializations (No need to change)  "
   ]
  },
  {
   "cell_type": "code",
   "execution_count": null,
   "id": "6576596f",
   "metadata": {},
   "outputs": [],
   "source": [
    "# Initialize dataframe for results \n",
    "#----------------------------------------------------\n",
    "record.rolling_metrics = pd.DataFrame()\n",
    "record.summary = pd.DataFrame(columns=['Max_spike_rate', 'Min_spike_rate',\n",
    "                                'Max_amplitude_sum', 'Min_amplitude_sum'])\n",
    "record.summary.index.name = 'channel'\n",
    "record.sig2noise = [] #To save the snr for each channel\n",
    "\n",
    "# Intialize dataframes for wavelet decomposition\n",
    "#---------------------------------------------------\n",
    "neural_wvl = pd.DataFrame(columns=record.filter_ch)\n",
    "neural_wvl_denoised = pd.DataFrame(columns=record.filter_ch)\n",
    "other_wvl = pd.DataFrame(columns=record.filter_ch)\n",
    "substraction_wvl = pd.DataFrame(columns=record.filter_ch)"
   ]
  },
  {
   "cell_type": "markdown",
   "id": "d89c097e",
   "metadata": {},
   "source": [
    "### Plot raw signal"
   ]
  },
  {
   "cell_type": "code",
   "execution_count": null,
   "id": "f540de14",
   "metadata": {},
   "outputs": [],
   "source": [
    "record.plot_freq_content(record.original,int(plot_ch), nperseg=512, max_freq=4000, ylim=[-500, 500], dtformat='%H:%M:%S',\n",
    "                         figsize=(10, 10), savefigpath='%s/figures/%s_ch%s_original-%s.png' %(record.path, port, plot_ch, current_time), \n",
    "                         show=False) "
   ]
  },
  {
   "cell_type": "markdown",
   "id": "06c913fe",
   "metadata": {},
   "source": [
    "### Channel referencing"
   ]
  },
  {
   "cell_type": "code",
   "execution_count": null,
   "id": "469b10b9",
   "metadata": {},
   "outputs": [],
   "source": [
    "ref_ch_name = 'mean' #'mean'\n",
    "if ref_ch_name == 'mean':\n",
    "    all_ch_list = [col for col in channels if col.startswith('ch_')] \n",
    "    ref_ch = record.original[all_ch_list].mean(axis=1)\n",
    "else:\n",
    "    ref_ch = record.original['ch_%s'%ref_ch_name]  \n",
    "record.referenced = record.original[record.filter_ch].sub(ref_ch, axis=0)\n",
    "record.referenced['seconds'] = record.original['seconds']\n",
    "record.recording=record.referenced\n",
    "record.recording.name = 'referenced'\n",
    "config_text.append('ref_ch: %s' % ref_ch_name)\n"
   ]
  },
  {
   "cell_type": "code",
   "execution_count": null,
   "id": "c6884128",
   "metadata": {},
   "outputs": [],
   "source": [
    "record.plot_freq_content(record.referenced,int(plot_ch), nperseg=512, max_freq=4000, ylim=[-750,750], dtformat='%H:%M:%S',figsize=(10, 10),\n",
    "                         savefigpath='%s/figures/%s_ch%s_ref%s-%s.png' %(record.path, port, plot_ch, ref_ch_name, current_time),\n",
    "                         show=True) \n",
    "    "
   ]
  },
  {
   "cell_type": "markdown",
   "id": "2c10eaa6",
   "metadata": {},
   "source": [
    "### Filtering"
   ]
  },
  {
   "cell_type": "markdown",
   "id": "3f5c95f8",
   "metadata": {},
   "source": [
    "#### Bandwidth filter"
   ]
  },
  {
   "cell_type": "code",
   "execution_count": null,
   "id": "8a1bcd3c",
   "metadata": {},
   "outputs": [],
   "source": [
    "# Configure - change as needed\n",
    "filt_config = {\n",
    "    'W': [400, 4000],  # (max needs to be <fs/2 per Nyquist)\n",
    "    'None': {},\n",
    "    'butter': {\n",
    "            'N': 9,                # The order of the filter\n",
    "            'btype': 'bandpass', #'bandpass', #'hp'  #'lowpass'     # The type of filter.\n",
    "    },      \n",
    "    'fir': {\n",
    "            'n': 4,\n",
    "    },\n",
    "    'notch': {\n",
    "            'quality_factor': 30,\n",
    "    },\n",
    "}\n",
    "\n",
    "filt_config['butter']['Wn'] = filt_config['W']\n",
    "filt_config['butter']['fs'] = record.fs\n",
    "\n",
    "config_text.append('filt_config: %s' %json.dumps(filt_config))"
   ]
  },
  {
   "cell_type": "markdown",
   "id": "13d91ed6",
   "metadata": {},
   "source": [
    "##### Apply filter"
   ]
  },
  {
   "cell_type": "code",
   "execution_count": null,
   "id": "0965a10d",
   "metadata": {},
   "outputs": [],
   "source": [
    "# Configure\n",
    "time_start = time.time()\n",
    "signal2filter = record.recording\n",
    "config_text.append('signal2filter: %s' %signal2filter.name)\n",
    "record.filter(signal2filter, record.apply_filter, **filt_config[record.apply_filter])\n",
    "# Change from float64 to float 16\n",
    "record.filtered = convertDfType(record.filtered, typeFloat='float32')\n",
    "#print(record.filtered.dtypes)\n",
    "print(\"Time elapsed: {} seconds\".format(time.time()-time_start))"
   ]
  },
  {
   "cell_type": "markdown",
   "id": "7a8418f4",
   "metadata": {},
   "source": [
    "##### Plot filtered signal"
   ]
  },
  {
   "cell_type": "code",
   "execution_count": null,
   "id": "4d19f5f8",
   "metadata": {},
   "outputs": [],
   "source": [
    "text_label = 'Filtered'\n",
    "text = 'Channels after %s filtering'%record.apply_filter\n",
    "record.plot_freq_content(record.filtered,int(plot_ch), nperseg=512, max_freq=4000, ylim=[-100, 100], dtformat='%H:%M:%S',\n",
    "                         figsize=(10, 10), savefigpath='%s/figures/%s_ch%s_butter_filtering-%s.png' %(record.path,port,plot_ch, current_time),"
   ]
  },
  {
   "cell_type": "markdown",
   "id": "3598d277",
   "metadata": {},
   "source": [
    "#### Notch filtering: check if needed"
   ]
  },
  {
   "cell_type": "code",
   "execution_count": null,
   "id": "abe1d3d7-b9ca-48ad-8206-6355fa832ea9",
   "metadata": {},
   "outputs": [],
   "source": [
    "time_start = time.time()\n",
    "freq_notch =  range(450, 2000, 100) #change as needed\n",
    "for n in freq_notch:\n",
    "    filt_config['notch']['notch_freq'] = n\n",
    "    record.filter(record.filtered, 'notch', **filt_config['notch'])\n",
    "print(\"Time elapsed: {} seconds\".format(time.time()-time_start))\n",
    "config_text.append('notch_filtered:applied')\n",
    "# Change from float64 to float 16\n",
    "record.filtered = convertDfType(record.filtered, typeFloat='float32')\n",
    "\n",
    "record.recording=record.filtered\n",
    "record.recording.name = 'filtered'"
   ]
  },
  {
   "cell_type": "code",
   "execution_count": null,
   "id": "8b1a205b-ec8a-46dd-bff3-75d6d8f215ec",
   "metadata": {},
   "outputs": [],
   "source": [
    "text_label = 'Filtered'\n",
    "text = 'Channels after %s filtering'%'notch'\n",
    "\n",
    "record.plot_freq_content(record.filtered, int(plot_ch), ylim=[-100, 100], nperseg=512, max_freq=4000, dtformat='%H:%M:%S',\n",
    "                         figsize=(10, 10), savefigpath='%s/figures/%s_ch%s_allfilt-%s.png' %(record.path, port,plot_ch, current_time), show=True) "
   ]
  },
  {
   "cell_type": "markdown",
   "id": "ca8f5570",
   "metadata": {},
   "source": [
    "### NOISE: Envelope derivative operator (EDO)"
   ]
  },
  {
   "cell_type": "code",
   "execution_count": null,
   "id": "ab3608d6",
   "metadata": {},
   "outputs": [],
   "source": [
    "noise_edo=pd.DataFrame()\n",
    "\n",
    "for ch in record.filter_ch:\n",
    "    x = record.recording[ch].to_numpy() \n",
    "    # Apply EDO filter\n",
    "    x_e = gen_edo(x)\n",
    "    # Store in DF to be loaded in signal analysis\n",
    "    noise_edo[ch] = x_e\n",
    "noise_edo['seconds'] = np.asarray(record.recording['seconds'])\n",
    "noise_edo.index = pd.DatetimeIndex(noise_edo.seconds * 1e9)\n",
    "noise_edo.index.name = 'time'\n",
    "noise_edo.name = 'noise_edo'\n",
    "\n",
    "config_text.append('signal to EDO: %s' %record.recording.name)\n",
    "\n",
    "# Change from float64 to float 32\n",
    "#noise_edo = convertDfType(noise_edo, typeFloat='float32')\n",
    "#print(noise_edo.dtypes)"
   ]
  }
 ],
 "metadata": {
  "kernelspec": {
   "display_name": "Python 3 (ipykernel)",
   "language": "python",
   "name": "python3"
  },
  "language_info": {
   "codemirror_mode": {
    "name": "ipython",
    "version": 3
   },
   "file_extension": ".py",
   "mimetype": "text/x-python",
   "name": "python",
   "nbconvert_exporter": "python",
   "pygments_lexer": "ipython3",
   "version": "3.9.13"
  },
  "toc": {
   "base_numbering": 1,
   "nav_menu": {},
   "number_sections": true,
   "sideBar": true,
   "skip_h1_title": false,
   "title_cell": "Table of Contents",
   "title_sidebar": "Contents",
   "toc_cell": true,
   "toc_position": {},
   "toc_section_display": true,
   "toc_window_display": false
  },
  "varInspector": {
   "cols": {
    "lenName": 16,
    "lenType": 16,
    "lenVar": 40
   },
   "kernels_config": {
    "python": {
     "delete_cmd_postfix": "",
     "delete_cmd_prefix": "del ",
     "library": "var_list.py",
     "varRefreshCmd": "print(var_dic_list())"
    },
    "r": {
     "delete_cmd_postfix": ") ",
     "delete_cmd_prefix": "rm(",
     "library": "var_list.r",
     "varRefreshCmd": "cat(var_dic_list()) "
    }
   },
   "types_to_exclude": [
    "module",
    "function",
    "builtin_function_or_method",
    "instance",
    "_Feature"
   ],
   "window_display": false
  }
 },
 "nbformat": 4,
 "nbformat_minor": 5
}
